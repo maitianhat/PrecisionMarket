{
 "cells": [
  {
   "cell_type": "markdown",
   "metadata": {},
   "source": [
    "# 数据读取与转换"
   ]
  },
  {
   "cell_type": "markdown",
   "metadata": {},
   "source": [
    "## 2.1 数据集的描述\n",
    "\n",
    "+ 本项目包含客户在某移动支付平台的367万条脱敏交易流水数据，交易时间跨度为5年。\n",
    "+ 每个客户有多条交易流水，每条交易流水记录了客户ID、交易金额、交易附言和交易时间四个字段。\n",
    "+ 各字段的英文名称、中文名称和备注如表2.1所示：\n",
    "\n",
    "<center><font size=\"2.5px\" face=\"微软雅黑\" color=\"666666\">表2.1：客户交易流水记录字段说明</font></center>\n",
    "<center><img src=\".\\Pics\\Table2_1.jpg\" width=\"750\" height=\"200\" alt=\"cursor\" align=center /></center>"
   ]
  },
  {
   "cell_type": "markdown",
   "metadata": {},
   "source": [
    "## 2.2 从MySQL数据库中读取交易流水数据\n",
    "\n",
    "本项目的交易流水记录存储在数据库`transactions`的`flow_data`表中。`flow_data`表的字段描述如表2.2所示：\n",
    "\n",
    "<center><font size=\"2.5px\" face=\"微软雅黑\" color=\"666666\">表2.2：flow_data数据表结构</font></center>\n",
    "<center><img src=\".\\Pics\\Table2_2.jpg\" width=\"250\" height=\"125\" alt=\"cursor\" align=center /></center>\n",
    "\n",
    "为了便于分析数据，我们使用`pymysql`模块连接数据库并导出数据。\n",
    "\n",
    "数据库连接对象`connection`\n",
    "+ 作用：建立Python客户端与数据库的连接。\n",
    "+ 创建方法：`connection=pymysql.connect(参数)`\n",
    "\n",
    "数据库游标对象`cursor`\n",
    "+ 作用：用于执行查询和获取结果。\n",
    "+ 创建方法：`cursor = connection.cursor()`。\n",
    "+ 在MySQL中，所有`SQL`语句的执行都要在游标对象的参与下完成。\n",
    "\n",
    "<center><img src=\".\\Pics\\Pic2_1.jpg\" width=\"500\" height=\"300\" alt=\"cursor\" align=center /></center>\n",
    "<center><font size=\"2.5px\" face=\"微软雅黑\" color=\"666666\">图2.1：数据库连接步骤</font></center>\n",
    "<!-- ![图2.1：数据库连接步骤](Pic2_1.jpg) -->\n",
    "\n",
    ">### 实训任务\n",
    ">+  请补充完成创建数据库连接对象`connection`的语句。\n",
    ">+  请书写`SQL`语句并赋予变量`sql1`，从数据库中查询表`flow_data`的行数。\n",
    ">+  请书写`SQL`语句并赋予变量`sql2`，从数据库中查询表`flow_data`的前五行。\n",
    "\n",
    "提示：`connection`对象中的参数为：\n",
    " + `host`：MySQL服务器地址。\n",
    " + `port`：连接的端口号，MySQL数据库默认端口是`3306`。\n",
    " + `user`和`password`：登陆数据库的用户名和密码。\n",
    " + `db`：要连接的数据库名字。\n",
    " + `charset`：字符编码，我们设置为`utf8mb4`，因为它可以很好地支持中文。\n",
    " \n",
    " \n",
    "表2.3显示了创建连接对象`connection`所需要的参数信息：\n",
    "\n",
    "<center><font size=\"2.5px\" face=\"微软雅黑\" color=\"666666\">表2.3：MySQL连接参数表</font></center>\n",
    "\n",
    "|参数名称|参数信息|参数类型|\n",
    "|:----|:-----|:----|\n",
    "|host|traindb.cookdata.cn|string|\n",
    "|port|3306|int|\n",
    "|user|raa_user|string|\n",
    "|password|bigdata123|string|\n",
    "|db|transactions|string|\n",
    "|charset|utf8mb4|string|\n",
    "\n",
    "可以看到数据行数为3672588，使用游标对象读取出的数据以嵌套元组的方式进行存储。"
   ]
  },
  {
   "cell_type": "code",
   "execution_count": null,
   "metadata": {},
   "outputs": [],
   "source": [
    "import pymysql\n",
    "\n",
    "# 建立连接对象\n",
    "connection = pymysql.connect(\n",
    "    host = 'traindb.cookdata.cn',\n",
    "    port = 3306,\n",
    "    user = 'raa_user',\n",
    "    password = 'bigdata123',\n",
    "    db = 'transactions',\n",
    "    charset = 'utf8mb4',\n",
    ")\n",
    "\n",
    "try:\n",
    "    with connection.cursor() as cursor:\n",
    "        # 查询数据表行数\n",
    "        sql1 = \"SELECT count(*) FROM flow_data\"\n",
    "        # 选取表的前五行\n",
    "        sql2 = \"SELECT * FROM flow_data LIMIT 5\"\n",
    "\n",
    "        cursor.execute(sql1)\n",
    "        rows = cursor.fetchall() \n",
    "        cursor.execute(sql2)\n",
    "        head = cursor.fetchall() \n",
    "\n",
    "finally:\n",
    "    connection.close()\n",
    "\n",
    "# 查看数据的行列数\n",
    "print('数据行数为:',rows,'\\n前五行数据为:',head)"
   ]
  },
  {
   "cell_type": "code",
   "execution_count": null,
   "metadata": {},
   "outputs": [],
   "source": []
  }
 ],
 "metadata": {
  "kernelspec": {
   "display_name": "Python 3",
   "language": "python",
   "name": "python3"
  },
  "language_info": {
   "codemirror_mode": {
    "name": "ipython",
    "version": 3
   },
   "file_extension": ".py",
   "mimetype": "text/x-python",
   "name": "python",
   "nbconvert_exporter": "python",
   "pygments_lexer": "ipython3",
   "version": "3.8.4"
  }
 },
 "nbformat": 4,
 "nbformat_minor": 4
}
